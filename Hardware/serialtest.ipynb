{
 "cells": [
  {
   "cell_type": "code",
   "execution_count": 1,
   "metadata": {},
   "outputs": [
    {
     "name": "stdout",
     "output_type": "stream",
     "text": [
      "可用端口名>>> COM6\n"
     ]
    }
   ],
   "source": [
    "import serial.tools.list_ports\n",
    "plist = list(serial.tools.list_ports.comports())\n",
    "\n",
    "if len(plist) <= 0:\n",
    "    print(\"没有发现端口!\")\n",
    "else:\n",
    "    plist_0 = list(plist[0])\n",
    "    serialName = plist_0[0]\n",
    "    serialFd = serial.Serial(serialName, 9600, timeout=60)\n",
    "    print(\"可用端口名>>>\", serialFd.name)\n",
    "    "
   ]
  },
  {
   "cell_type": "code",
   "execution_count": null,
   "metadata": {},
   "outputs": [],
   "source": []
  },
  {
   "cell_type": "code",
   "execution_count": 84,
   "metadata": {
    "scrolled": true
   },
   "outputs": [
    {
     "name": "stdout",
     "output_type": "stream",
     "text": [
      "[<serial.tools.list_ports_common.ListPortInfo object at 0x000001E7F7640FD0>, <serial.tools.list_ports_common.ListPortInfo object at 0x000001E7F76257B8>, <serial.tools.list_ports_common.ListPortInfo object at 0x000001E7F7625CF8>, <serial.tools.list_ports_common.ListPortInfo object at 0x000001E7F7625F28>, <serial.tools.list_ports_common.ListPortInfo object at 0x000001E7F7625780>, <serial.tools.list_ports_common.ListPortInfo object at 0x000001E7F7625978>, <serial.tools.list_ports_common.ListPortInfo object at 0x000001E7F76256D8>]\n",
      "COM6 - 蓝牙链接上的标准串行 (COM6)\n",
      "COM7 - 蓝牙链接上的标准串行 (COM7)\n",
      "COM10 - 蓝牙链接上的标准串行 (COM10)\n",
      "COM9 - 蓝牙链接上的标准串行 (COM9)\n",
      "COM4 - 蓝牙链接上的标准串行 (COM4)\n",
      "COM5 - 蓝牙链接上的标准串行 (COM5)\n",
      "COM3 - USB-SERIAL CH340 (COM3)\n"
     ]
    }
   ],
   "source": [
    "import serial #导入模块\n",
    "\n",
    "import serial.tools.list_ports\n",
    "port_list = list(serial.tools.list_ports.comports())\n",
    "print(port_list)\n",
    "if len(port_list) == 0:\n",
    "   print('无可用串口')\n",
    "else:\n",
    "    for i in range(0,len(port_list)):\n",
    "        print(port_list[i])"
   ]
  },
  {
   "cell_type": "code",
   "execution_count": 140,
   "metadata": {},
   "outputs": [
    {
     "name": "stdout",
     "output_type": "stream",
     "text": [
      "串口详情参数： Serial<id=0x1e7f76413c8, open=False>(port='COM3', baudrate=9600, bytesize=8, parity='N', stopbits=1, timeout=0.5, xonxoff=False, rtscts=False, dsrdtr=False)\n",
      "写总字节数: 15\n",
      "\n"
     ]
    }
   ],
   "source": [
    "portx=\"COM3\"\n",
    "bps=9600\n",
    "#超时设置,None：永远等待操作，0为立即返回请求结果，其他值为等待超时时间(单位为秒）\n",
    "timex=0.5\n",
    "# 打开串口，并得到串口对象\n",
    "print(\"串口详情参数：\", ser)\n",
    "ser=serial.Serial(portx,bps,timeout=timex,bytesize=8,stopbits=1)\n",
    "result=ser.write('ZCoordinate_-66'.encode(\"gbk\"))\n",
    "print(\"写总字节数:\",result)\n",
    "print(ser.readline().decode(\"gbk\"))#读一行\n",
    "ser.close()#关闭串口"
   ]
  },
  {
   "cell_type": "code",
   "execution_count": 126,
   "metadata": {},
   "outputs": [],
   "source": [
    "ser.close()#关闭串口"
   ]
  },
  {
   "cell_type": "code",
   "execution_count": null,
   "metadata": {},
   "outputs": [],
   "source": []
  }
 ],
 "metadata": {
  "kernelspec": {
   "display_name": "Python 3",
   "language": "python",
   "name": "python3"
  },
  "language_info": {
   "codemirror_mode": {
    "name": "ipython",
    "version": 3
   },
   "file_extension": ".py",
   "mimetype": "text/x-python",
   "name": "python",
   "nbconvert_exporter": "python",
   "pygments_lexer": "ipython3",
   "version": "3.7.2"
  }
 },
 "nbformat": 4,
 "nbformat_minor": 4
}
